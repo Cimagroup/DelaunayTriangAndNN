{
 "cells": [
  {
   "cell_type": "code",
   "execution_count": 5,
   "id": "separated-miracle",
   "metadata": {},
   "outputs": [],
   "source": [
    "import basic_defs\n",
    "from sklearn.datasets import make_classification\n",
    "import numpy as np\n",
    "from scipy.spatial import Delaunay"
   ]
  },
  {
   "cell_type": "code",
   "execution_count": 12,
   "id": "relevant-politics",
   "metadata": {},
   "outputs": [
    {
     "ename": "ValueError",
     "evalue": "all the input array dimensions for the concatenation axis must match exactly, but along dimension 1, the array at index 0 has size 3 and the array at index 1 has size 2",
     "output_type": "error",
     "traceback": [
      "\u001b[1;31m---------------------------------------------------------------------------\u001b[0m",
      "\u001b[1;31mValueError\u001b[0m                                Traceback (most recent call last)",
      "\u001b[1;32m<ipython-input-12-969614103ecc>\u001b[0m in \u001b[0;36m<module>\u001b[1;34m\u001b[0m\n\u001b[0;32m      7\u001b[0m     \u001b[0mp4\u001b[0m \u001b[1;33m=\u001b[0m \u001b[1;33m[\u001b[0m\u001b[0mnp\u001b[0m\u001b[1;33m.\u001b[0m\u001b[0mmin\u001b[0m\u001b[1;33m(\u001b[0m\u001b[0mdataset\u001b[0m\u001b[1;33m[\u001b[0m\u001b[1;33m:\u001b[0m\u001b[1;33m,\u001b[0m\u001b[1;36m0\u001b[0m\u001b[1;33m]\u001b[0m\u001b[1;33m)\u001b[0m\u001b[1;33m-\u001b[0m\u001b[1;36m0.5\u001b[0m\u001b[1;33m,\u001b[0m\u001b[0mnp\u001b[0m\u001b[1;33m.\u001b[0m\u001b[0mmax\u001b[0m\u001b[1;33m(\u001b[0m\u001b[0mdataset\u001b[0m\u001b[1;33m[\u001b[0m\u001b[1;33m:\u001b[0m\u001b[1;33m,\u001b[0m\u001b[1;36m1\u001b[0m\u001b[1;33m]\u001b[0m\u001b[1;33m)\u001b[0m\u001b[1;33m+\u001b[0m\u001b[1;36m0.5\u001b[0m\u001b[1;33m]\u001b[0m\u001b[1;33m\u001b[0m\u001b[1;33m\u001b[0m\u001b[0m\n\u001b[0;32m      8\u001b[0m     \u001b[0mlabels\u001b[0m\u001b[1;33m=\u001b[0m\u001b[0mnp\u001b[0m\u001b[1;33m.\u001b[0m\u001b[0mconcatenate\u001b[0m\u001b[1;33m(\u001b[0m\u001b[1;33m(\u001b[0m\u001b[0mdata\u001b[0m\u001b[1;33m[\u001b[0m\u001b[1;36m1\u001b[0m\u001b[1;33m]\u001b[0m\u001b[1;33m,\u001b[0m\u001b[1;33m[\u001b[0m\u001b[1;36m2\u001b[0m\u001b[1;33m]\u001b[0m\u001b[1;33m*\u001b[0m\u001b[1;36m4\u001b[0m\u001b[1;33m)\u001b[0m\u001b[1;33m)\u001b[0m\u001b[1;33m\u001b[0m\u001b[1;33m\u001b[0m\u001b[0m\n\u001b[1;32m----> 9\u001b[1;33m     \u001b[0mdataset\u001b[0m\u001b[1;33m=\u001b[0m \u001b[0mnp\u001b[0m\u001b[1;33m.\u001b[0m\u001b[0mconcatenate\u001b[0m\u001b[1;33m(\u001b[0m\u001b[1;33m(\u001b[0m\u001b[0mdataset\u001b[0m\u001b[1;33m,\u001b[0m\u001b[1;33m[\u001b[0m\u001b[0mp1\u001b[0m\u001b[1;33m,\u001b[0m\u001b[0mp2\u001b[0m\u001b[1;33m,\u001b[0m\u001b[0mp3\u001b[0m\u001b[1;33m,\u001b[0m\u001b[0mp4\u001b[0m\u001b[1;33m]\u001b[0m\u001b[1;33m)\u001b[0m\u001b[1;33m)\u001b[0m\u001b[1;33m\u001b[0m\u001b[1;33m\u001b[0m\u001b[0m\n\u001b[0m\u001b[0;32m     10\u001b[0m     \u001b[0mk\u001b[0m \u001b[1;33m=\u001b[0m \u001b[0mDelaunay\u001b[0m\u001b[1;33m(\u001b[0m\u001b[0mdataset\u001b[0m\u001b[1;33m)\u001b[0m\u001b[1;33m\u001b[0m\u001b[1;33m\u001b[0m\u001b[0m\n\u001b[0;32m     11\u001b[0m     \u001b[0mprint\u001b[0m\u001b[1;33m(\u001b[0m\u001b[1;34m\"Originalmente eran \"\u001b[0m\u001b[1;33m,\u001b[0m\u001b[0mlen\u001b[0m\u001b[1;33m(\u001b[0m\u001b[0mk\u001b[0m\u001b[1;33m.\u001b[0m\u001b[0msimplices\u001b[0m\u001b[1;33m)\u001b[0m\u001b[1;33m,\u001b[0m\u001b[1;34m\" triángulos y \"\u001b[0m\u001b[1;33m,\u001b[0m\u001b[0mlen\u001b[0m\u001b[1;33m(\u001b[0m\u001b[0mk\u001b[0m\u001b[1;33m.\u001b[0m\u001b[0mpoints\u001b[0m\u001b[1;33m)\u001b[0m\u001b[1;33m,\u001b[0m\u001b[1;34m\" puntos.\"\u001b[0m\u001b[1;33m)\u001b[0m\u001b[1;33m\u001b[0m\u001b[1;33m\u001b[0m\u001b[0m\n",
      "\u001b[1;32m<__array_function__ internals>\u001b[0m in \u001b[0;36mconcatenate\u001b[1;34m(*args, **kwargs)\u001b[0m\n",
      "\u001b[1;31mValueError\u001b[0m: all the input array dimensions for the concatenation axis must match exactly, but along dimension 1, the array at index 0 has size 3 and the array at index 1 has size 2"
     ]
    }
   ],
   "source": [
    "for n in [10,100,1000,10000,100000,1000000]:\n",
    "    data = make_classification(n_samples=n, n_features=2,n_informative=1,n_redundant=0,n_clusters_per_class=1,random_state=1)\n",
    "    dataset = data[0]\n",
    "    p1 = [np.max(dataset[:,0])+0.5,np.max(dataset[:,1])+0.5]\n",
    "    p2 = [np.max(dataset[:,0])+0.5,np.min(dataset[:,1])-0.5]\n",
    "    p3 = [np.min(dataset[:,0])-0.5,np.min(dataset[:,1])-0.5]\n",
    "    p4 = [np.min(dataset[:,0])-0.5,np.max(dataset[:,1])+0.5]\n",
    "    labels=np.concatenate((data[1],[2]*4))\n",
    "    dataset= np.concatenate((dataset,[p1,p2,p3,p4]))\n",
    "    k = Delaunay(dataset)\n",
    "    print(\"Originalmente eran \",len(k.simplices),\" triángulos y \",len(k.points),\" puntos.\")\n",
    "    pairs = zip(labels[k.simplices],k.simplices)\n",
    "    triangulos=[y for (x,y) in pairs if len(set(x))!=1]\n",
    "    k.simplices=triangulos\n",
    "    puntos=k.points[np.unique(k.simplices)]\n",
    "    tr = Delaunay(puntos)\n",
    "    print(\"Son \",len(tr.simplices), \" triángulos en total.\")\n",
    "    print(\"Son \",len(tr.points), \" puntos en total.\")"
   ]
  },
  {
   "cell_type": "code",
   "execution_count": 15,
   "id": "accepting-morocco",
   "metadata": {},
   "outputs": [
    {
     "name": "stdout",
     "output_type": "stream",
     "text": [
      "Originalmente eran  34  triángulos y  14  puntos.\n",
      "Son  29  triángulos en total.\n",
      "Son  13  puntos en total.\n",
      "Originalmente eran  551  triángulos y  104  puntos.\n",
      "Son  391  triángulos en total.\n",
      "Son  75  puntos en total.\n",
      "Originalmente eran  6331  triángulos y  1004  puntos.\n",
      "Son  1647  triángulos en total.\n",
      "Son  272  puntos en total.\n",
      "Originalmente eran  66874  triángulos y  10004  puntos.\n",
      "Son  30357  triángulos en total.\n",
      "Son  4556  puntos en total.\n",
      "Originalmente eran  672097  triángulos y  100004  puntos.\n",
      "Son  147029  triángulos en total.\n",
      "Son  21955  puntos en total.\n",
      "Originalmente eran  6762603  triángulos y  1000004  puntos.\n",
      "Son  1858204  triángulos en total.\n",
      "Son  274635  puntos en total.\n"
     ]
    }
   ],
   "source": [
    "for n in [14,104,1004,10004,100004,1000004]:\n",
    "    data = make_classification(n_samples=n, n_features=3,n_informative=1,n_redundant=0,n_clusters_per_class=1,random_state=1)\n",
    "    dataset = data[0]\n",
    "    labels=np.concatenate((data[1],[2]*4))\n",
    "    #dataset= np.concatenate((dataset,[p1,p2,p3,p4]))\n",
    "    k = Delaunay(dataset)\n",
    "    print(\"Originalmente eran \",len(k.simplices),\" triángulos y \",len(k.points),\" puntos.\")\n",
    "    pairs = zip(labels[k.simplices],k.simplices)\n",
    "    triangulos=[y for (x,y) in pairs if len(set(x))!=1]\n",
    "    k.simplices=triangulos\n",
    "    puntos=k.points[np.unique(k.simplices)]\n",
    "    tr = Delaunay(puntos)\n",
    "    print(\"Son \",len(tr.simplices), \" triángulos en total.\")\n",
    "    print(\"Son \",len(tr.points), \" puntos en total.\")"
   ]
  },
  {
   "cell_type": "code",
   "execution_count": null,
   "id": "younger-tackle",
   "metadata": {},
   "outputs": [],
   "source": []
  }
 ],
 "metadata": {
  "kernelspec": {
   "display_name": "Python 3",
   "language": "python",
   "name": "python3"
  },
  "language_info": {
   "codemirror_mode": {
    "name": "ipython",
    "version": 3
   },
   "file_extension": ".py",
   "mimetype": "text/x-python",
   "name": "python",
   "nbconvert_exporter": "python",
   "pygments_lexer": "ipython3",
   "version": "3.8.8"
  }
 },
 "nbformat": 4,
 "nbformat_minor": 5
}
