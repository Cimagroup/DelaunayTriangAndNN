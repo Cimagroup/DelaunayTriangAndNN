{
 "cells": [
  {
   "cell_type": "markdown",
   "id": "covered-average",
   "metadata": {},
   "source": [
    "## Librerias"
   ]
  },
  {
   "cell_type": "code",
   "execution_count": 1,
   "id": "delayed-peter",
   "metadata": {},
   "outputs": [],
   "source": [
    "from scipy.spatial import Delaunay\n",
    "import matplotlib.pyplot as plt\n",
    "import numpy as np"
   ]
  },
  {
   "cell_type": "markdown",
   "id": "answering-sugar",
   "metadata": {},
   "source": [
    "## Coordenadas baricentricas y cartesianas\n",
    "\n",
    "Respecto a una triangulación de Delaunay de un conjunto de puntos respecto al simplice k-ésimo."
   ]
  },
  {
   "cell_type": "code",
   "execution_count": 15,
   "id": "chinese-welding",
   "metadata": {},
   "outputs": [],
   "source": [
    "def barycentric(delaunay,points,k): # k=id simplice\n",
    "    n = len(points[0])\n",
    "    b = delaunay.transform[k,:n].dot(np.transpose(points - delaunay.transform[k,n]))\n",
    "    return np.c_[np.transpose(b), 1 - b.sum(axis=0)]\n",
    "\n",
    "def cartesian(delaunay,barycentric,k):\n",
    "    return barycentric.dot(delaunay.points[delaunay.simplices[k]])"
   ]
  },
  {
   "cell_type": "markdown",
   "id": "distant-execution",
   "metadata": {},
   "source": [
    "Por ejemplo"
   ]
  },
  {
   "cell_type": "code",
   "execution_count": 10,
   "id": "labeled-signature",
   "metadata": {},
   "outputs": [],
   "source": [
    "dataset = (np.array([[0,0],[0,1],[1,0],[1,1],[-1,-1],[-1,2],[2,2],[-1,2],[2,-1]]),\n",
    "           np.array([0,1,1,0,2,2,2,2,2]))\n",
    "data = dataset[0]\n",
    "classes = dataset[1]"
   ]
  },
  {
   "cell_type": "code",
   "execution_count": 13,
   "id": "destroyed-society",
   "metadata": {
    "scrolled": false
   },
   "outputs": [
    {
     "data": {
      "image/png": "[encoded data removed]",
      "text/plain": [
       "<Figure size 432x288 with 1 Axes>"
      ]
     },
     "metadata": {
      "needs_background": "light"
     },
     "output_type": "display_data"
    }
   ],
   "source": [
    "k = Delaunay(data)\n",
    "plt.triplot(data[:,0], data[:,1], k.simplices)\n",
    "plt.scatter(data[:,0], data[:,1],c=classes)\n",
    "plt.show()"
   ]
  },
  {
   "cell_type": "code",
   "execution_count": 18,
   "id": "pregnant-stake",
   "metadata": {},
   "outputs": [
    {
     "data": {
      "text/plain": [
       "array([[0, 1, 4],\n",
       "       [1, 5, 4],\n",
       "       [5, 1, 6],\n",
       "       [1, 3, 6],\n",
       "       [2, 0, 4],\n",
       "       [8, 2, 4],\n",
       "       [2, 1, 0],\n",
       "       [1, 2, 3],\n",
       "       [3, 2, 6],\n",
       "       [2, 8, 6]], dtype=int32)"
      ]
     },
     "execution_count": 18,
     "metadata": {},
     "output_type": "execute_result"
    }
   ],
   "source": [
    "# La lista de símplices de la triangulación se obtiene:\n",
    "k.simplices"
   ]
  },
  {
   "cell_type": "code",
   "execution_count": 20,
   "id": "magnetic-multiple",
   "metadata": {},
   "outputs": [
    {
     "data": {
      "text/plain": [
       "array([[ 0.,  0.],\n",
       "       [ 0.,  1.],\n",
       "       [ 1.,  0.],\n",
       "       [ 1.,  1.],\n",
       "       [-1., -1.],\n",
       "       [-1.,  2.],\n",
       "       [ 2.,  2.],\n",
       "       [-1.,  2.],\n",
       "       [ 2., -1.]])"
      ]
     },
     "execution_count": 20,
     "metadata": {},
     "output_type": "execute_result"
    }
   ],
   "source": [
    "# La lista de vértices de la triangulación se obtiene:\n",
    "k.points"
   ]
  },
  {
   "cell_type": "code",
   "execution_count": 17,
   "id": "injured-account",
   "metadata": {},
   "outputs": [
    {
     "data": {
      "text/plain": [
       "array([[-0.4       ,  1.5       , -0.1       ],\n",
       "       [ 0.16666667, -0.1       ,  0.93333333]])"
      ]
     },
     "execution_count": 17,
     "metadata": {},
     "output_type": "execute_result"
    }
   ],
   "source": [
    "# Coordenadas baricéntricas de los puntos [(0.2,0.5),(1.7,2.1)] respecto al símplice [5, 1, 6]:\n",
    "barycentric(k,[(0.2,0.5),(1.7,2.1)],2)"
   ]
  },
  {
   "cell_type": "markdown",
   "id": "relevant-multiple",
   "metadata": {},
   "source": [
    "### Definición de la red neuronal"
   ]
  },
  {
   "cell_type": "code",
   "execution_count": 28,
   "id": "clear-hypothetical",
   "metadata": {},
   "outputs": [],
   "source": [
    "def nn(dataset,p):\n",
    "    data = dataset[0] # LOS PUNTOS\n",
    "    classes = dataset[1] # CLASES\n",
    "    k = Delaunay(data) # COMPLEJO K\n",
    "    l = Delaunay(np.array([[0,0],[0,1],[1,0]])) # COMPLEJO L\n",
    "    b=barycentric(k,p,k.find_simplex(p)[0]) # BARICENTRICAS DE P EN K\n",
    "    image = classes[k.simplices[k.find_simplex(p)]][0] \n",
    "    # TOMAMOS LAS BARICENTRICAS RESPECTO UNO DE LOS SIMPLICES \n",
    "    # A LOS QUE PERTENECE P, ES DECIR, COORDENADAS BARICÉNTRICAS POSITIVAS.\n",
    "    # VERTICES IMAGEN DEL SIMPLICE QUE CONTIENE A P EN K\n",
    "    f=b.dot(l.points[image])\n",
    "    # CARTESIANAS IMAGEN DE P EN L\n",
    "    return  barycentric(l,f,0) # BARICÉNTRICAS DE P EN L"
   ]
  },
  {
   "cell_type": "markdown",
   "id": "remarkable-young",
   "metadata": {},
   "source": [
    "#### Ejemplo:"
   ]
  },
  {
   "cell_type": "markdown",
   "id": "funky-slave",
   "metadata": {},
   "source": [
    "Complejo simplicial L"
   ]
  },
  {
   "cell_type": "code",
   "execution_count": 29,
   "id": "greater-multiple",
   "metadata": {},
   "outputs": [
    {
     "data": {
      "image/png": "[encoded data removed]",
      "text/plain": [
       "<Figure size 432x288 with 1 Axes>"
      ]
     },
     "metadata": {
      "needs_background": "light"
     },
     "output_type": "display_data"
    }
   ],
   "source": [
    "l = Delaunay(np.array([[0,0],[0,1],[1,0]]))\n",
    "plt.triplot(l.points[:,0], l.points[:,1], l.simplices)\n",
    "plt.scatter(l.points[:,0],l.points[:,1],c=np.array([0,1,2]))\n",
    "plt.show()"
   ]
  },
  {
   "cell_type": "code",
   "execution_count": 30,
   "id": "designing-syria",
   "metadata": {},
   "outputs": [
    {
     "data": {
      "text/plain": [
       "array([[0.1, 0.9, 0. ]])"
      ]
     },
     "execution_count": 30,
     "metadata": {},
     "output_type": "execute_result"
    }
   ],
   "source": [
    "nn(dataset,[(-0.1,1.1)])"
   ]
  },
  {
   "cell_type": "markdown",
   "id": "diverse-assistant",
   "metadata": {},
   "source": [
    "### Subdivisión baricéntrica"
   ]
  },
  {
   "cell_type": "code",
   "execution_count": 31,
   "id": "latter-exclusion",
   "metadata": {},
   "outputs": [],
   "source": [
    "import itertools "
   ]
  },
  {
   "cell_type": "code",
   "execution_count": 32,
   "id": "critical-mercury",
   "metadata": {},
   "outputs": [],
   "source": [
    "# Auxiliary function: \n",
    "# Input: list\n",
    "# Output: subsets of a given size\n",
    "def findsubsets(s, n): \n",
    "    return np.array(list(itertools.combinations(s, n)))"
   ]
  },
  {
   "cell_type": "code",
   "execution_count": 33,
   "id": "normal-conservation",
   "metadata": {},
   "outputs": [],
   "source": [
    "# Devuelve una 2-upla. El primer elemento es una lista de tuplas con los símplices\n",
    "# y los índices de sus baricentros. El segundo elemento son todos los nuevos puntos.\n",
    "\n",
    "# Barycentric subdivision of a given simplex.\n",
    "# Input: A simplex (simplice in spanish) and points location of the vertices (puntos)\n",
    "# Output: two lists. The first one is composed of indices of the new vertices\n",
    "# with the simplices to compute it.\n",
    "# The second list is composed of the locations of the new points.\n",
    "def barycentric_subd(simplice,puntos):\n",
    "    i=len(simplice)\n",
    "    index = len(puntos)-1\n",
    "    ls = []\n",
    "    bs = []\n",
    "    while i!=1:\n",
    "        s1= findsubsets(simplice,i)#[0],i)\n",
    "        b1= [np.sum(puntos[s],axis=0)/i for s in s1]\n",
    "        xs = []\n",
    "        for b in b1:\n",
    "            bs.append(b)\n",
    "            index+=1\n",
    "            xs.append(index) \n",
    "        ls.append(np.array(list(zip(xs,s1))))\n",
    "        i-=1\n",
    "    s_ori= findsubsets(simplice,1)\n",
    "    ls.append(np.array(list(zip(simplice,s_ori))))\n",
    "    return (np.concatenate(ls),bs)\n"
   ]
  },
  {
   "cell_type": "code",
   "execution_count": 35,
   "id": "illegal-philadelphia",
   "metadata": {},
   "outputs": [],
   "source": [
    "# Use the output of barycentric subdivision function to provide the maximal\n",
    "# simplices of the barycentric subdivision.\n",
    "# Input: output of barycentric subdivision and dimension of the maximal simplices     \n",
    "def maximal_simp(t,dim):\n",
    "    t1=t[0]\n",
    "    lists = findsubsets(t1,dim+1)\n",
    "    simps = []\n",
    "    for l in lists:\n",
    "        if ite_sublist(l[:,1]):\n",
    "            simps.append(l[:,0])\n",
    "    return simps\n",
    "        \n",
    "#Auxiliary function to check if a list lst1 is contained in other list lst2\n",
    "def sublist(lst1, lst2):\n",
    "    return (set(lst1) <= set(lst2))\n",
    " \n",
    "# Generalization of the function of list to a sequence of lists.\n",
    "def ite_sublist(ts):\n",
    "    ls = []\n",
    "    for i in range(len(ts)):\n",
    "        a = all([sublist(ts[j],ts[i]) for j in range(i+1,len(ts))])\n",
    "        ls.append(a)\n",
    "    return all(ls)\n",
    "        \n",
    "\n",
    "# Barycentric subdivision of a simplicial complex.\n",
    "def bar_subd_complex(simp_complex,puntos):\n",
    "    ss = []\n",
    "    p = puntos\n",
    "    dim=len(simp_complex[0])-1\n",
    "    for i in range(np.shape(simp_complex)[0]):\n",
    "        b=barycentric_subd(simp_complex[i],p)\n",
    "        m = maximal_simp(b,dim)\n",
    "        p = np.concatenate((p,b[1]))\n",
    "        ss.append(m)\n",
    "    return((np.array(np.concatenate(ss),dtype=np.int),p))\n",
    "        "
   ]
  },
  {
   "cell_type": "markdown",
   "id": "focal-advance",
   "metadata": {},
   "source": [
    "#### Ejemplo"
   ]
  },
  {
   "cell_type": "code",
   "execution_count": 39,
   "id": "complimentary-appeal",
   "metadata": {
    "scrolled": false
   },
   "outputs": [
    {
     "name": "stderr",
     "output_type": "stream",
     "text": [
      "<ipython-input-33-0c7291b33819>:22: VisibleDeprecationWarning: Creating an ndarray from ragged nested sequences (which is a list-or-tuple of lists-or-tuples-or ndarrays with different lengths or shapes) is deprecated. If you meant to do this, you must specify 'dtype=object' when creating the ndarray\n",
      "  ls.append(np.array(list(zip(xs,s1))))\n",
      "<ipython-input-33-0c7291b33819>:25: VisibleDeprecationWarning: Creating an ndarray from ragged nested sequences (which is a list-or-tuple of lists-or-tuples-or ndarrays with different lengths or shapes) is deprecated. If you meant to do this, you must specify 'dtype=object' when creating the ndarray\n",
      "  ls.append(np.array(list(zip(simplice,s_ori))))\n"
     ]
    },
    {
     "data": {
      "image/png": "[encoded data removed]",
      "text/plain": [
       "<Figure size 432x288 with 1 Axes>"
      ]
     },
     "metadata": {
      "needs_background": "light"
     },
     "output_type": "display_data"
    }
   ],
   "source": [
    "p = np.array([[0,3],[3,0],[0,0],[3,3]])\n",
    "simplices = np.array([[0,1,2],[0,1,3]])\n",
    "\n",
    "b=bar_subd_complex(simplices,p)\n",
    "plt.triplot(b[1][:,0], b[1][:,1], b[0])\n",
    "plt.scatter(b[1][:,0], b[1][:,1])\n",
    "plt.show()"
   ]
  },
  {
   "cell_type": "code",
   "execution_count": 40,
   "id": "impossible-samoa",
   "metadata": {},
   "outputs": [
    {
     "data": {
      "text/plain": [
       "(array([[ 4,  5,  0],\n",
       "        [ 4,  5,  1],\n",
       "        [ 4,  6,  0],\n",
       "        [ 4,  6,  2],\n",
       "        [ 4,  7,  1],\n",
       "        [ 4,  7,  2],\n",
       "        [ 8,  9,  0],\n",
       "        [ 8,  9,  1],\n",
       "        [ 8, 10,  0],\n",
       "        [ 8, 10,  3],\n",
       "        [ 8, 11,  1],\n",
       "        [ 8, 11,  3]]),\n",
       " array([[0. , 3. ],\n",
       "        [3. , 0. ],\n",
       "        [0. , 0. ],\n",
       "        [3. , 3. ],\n",
       "        [1. , 1. ],\n",
       "        [1.5, 1.5],\n",
       "        [0. , 1.5],\n",
       "        [1.5, 0. ],\n",
       "        [2. , 2. ],\n",
       "        [1.5, 1.5],\n",
       "        [1.5, 3. ],\n",
       "        [3. , 1.5]]))"
      ]
     },
     "execution_count": 40,
     "metadata": {},
     "output_type": "execute_result"
    }
   ],
   "source": [
    "b"
   ]
  },
  {
   "cell_type": "code",
   "execution_count": null,
   "id": "israeli-myanmar",
   "metadata": {},
   "outputs": [],
   "source": []
  }
 ],
 "metadata": {
  "kernelspec": {
   "display_name": "Python 3",
   "language": "python",
   "name": "python3"
  },
  "language_info": {
   "codemirror_mode": {
    "name": "ipython",
    "version": 3
   },
   "file_extension": ".py",
   "mimetype": "text/x-python",
   "name": "python",
   "nbconvert_exporter": "python",
   "pygments_lexer": "ipython3",
   "version": "3.8.8"
  }
 },
 "nbformat": 4,
 "nbformat_minor": 5
}
